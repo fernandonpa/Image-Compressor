{
 "cells": [
  {
   "cell_type": "markdown",
   "metadata": {},
   "source": [
    "# K-means Clustering \n",
    "\n",
    "In here, implement the K-means algorithm and use it for image compression. \n",
    "\n",
    "* Start with a sample dataset that will help  gain an intuition of how the K-means algorithm works. \n",
    "* After that,  use the K-means algorithm for image compression by reducing the number of colors that occur in an image to only those that are most common in that image.\n",
    "\n",
    "\n",
    "\n"
   ]
  },
  {
   "cell_type": "markdown",
   "metadata": {},
   "source": [
    "packages needed in this assignment:\n",
    "\n",
    "- [numpy](https://numpy.org/) is the fundamental package for scientific computing with Python.\n",
    "- [matplotlib](http://matplotlib.org) is a popular library to plot graphs in Python.\n",
    "- `utils.py` contains helper functions for this assignment. \n",
    "\n",
    "  *For efficient implementation use additional modules:*\n",
    "\n",
    "- [sklearn.cluster]() import `KMeans` for run kmean algorithm.\n",
    "- [scipy.spatial]() import `cKDTree` for find nearest centroid , map them and Reshape. "
   ]
  },
  {
   "cell_type": "code",
   "execution_count": 4,
   "metadata": {},
   "outputs": [],
   "source": [
    "import numpy as np\n",
    "import matplotlib.pyplot as plt\n",
    "from sklearn.cluster import KMeans\n",
    "from scipy.spatial import cKDTree \n",
    "\n",
    "%matplotlib inline"
   ]
  },
  {
   "cell_type": "markdown",
   "metadata": {},
   "source": [
    "### Implementing K-means\n",
    "\n",
    "* Concretely, we have a training set $\\{x^{(1)}, ..., x^{(m)}\\}$, and if we want to group the data into a few cohesive “clusters”. \n",
    "\n",
    "* The K-means algorithm is as follows:\n",
    "\n",
    "    ``` python\n",
    "    # Initialize centroids\n",
    "    # K is the number of clusters\n",
    "    centroids = kMeans_init_centroids(X, K)\n",
    "    \n",
    "    for iter in range(iterations):\n",
    "        # Cluster assignment step: \n",
    "        # Assign each data point to the closest centroid. \n",
    "        # idx[i] corresponds to the index of the centroid \n",
    "        # assigned to example i\n",
    "        idx = find_closest_centroids(X, centroids)\n",
    "\n",
    "        # Move centroid step: \n",
    "        # Compute means based on centroid assignments\n",
    "        centroids = compute_centroids(X, idx, K)\n",
    "    ```\n"
   ]
  },
  {
   "cell_type": "markdown",
   "metadata": {},
   "source": [
    "#### 1. Finding closest centroids\n",
    "\n",
    "$$c^{(i)} := j \\quad \\mathrm{that \\; minimizes} \\quad ||x^{(i)} - \\mu_j||^2,$$\n",
    "\n",
    "\n",
    " * $c^{(i)}$ is the index of the centroid that is closest to $x^{(i)}$ (corresponds to `idx[i]` in the starter code), and \n",
    " * $\\mu_j$ is the position (value) of the $j$’th centroid. (stored in `centroids` in the starter code)\n",
    " * $||x^{(i)} - \\mu_j||$ is the L2-norm"
   ]
  },
  {
   "cell_type": "code",
   "execution_count": null,
   "metadata": {},
   "outputs": [],
   "source": [
    "# find_closest_centroid: Find the closest centroid for each point in the dataset\n"
   ]
  },
  {
   "cell_type": "markdown",
   "metadata": {},
   "source": [
    "##### Load the data for check implementation is correct or not."
   ]
  },
  {
   "cell_type": "code",
   "execution_count": 1,
   "metadata": {},
   "outputs": [],
   "source": [
    "# load_data:"
   ]
  },
  {
   "cell_type": "markdown",
   "metadata": {},
   "source": [
    "#### 2. Computing centroid means\n",
    "\n",
    "$$\\mu_k = \\frac{1}{|C_k|} \\sum_{i \\in C_k} x^{(i)}$$ \n",
    "\n",
    "     \n",
    "* $C_k$ is the set of examples that are assigned to centroid $k$\n",
    "* $|C_k|$ is the number of examples in the set $C_k$"
   ]
  },
  {
   "cell_type": "code",
   "execution_count": null,
   "metadata": {},
   "outputs": [],
   "source": [
    "# compute_centroids: Compute the centroids for the dataset"
   ]
  },
  {
   "cell_type": "markdown",
   "metadata": {},
   "source": [
    "Now check your implementation by running the cell below"
   ]
  },
  {
   "cell_type": "code",
   "execution_count": null,
   "metadata": {},
   "outputs": [],
   "source": [
    "# check the implementation"
   ]
  },
  {
   "cell_type": "markdown",
   "metadata": {},
   "source": [
    "### K-means on a sample dataset \n",
    "\n",
    "After complete the two functions (`find_closest_centroids`\n",
    "and `compute_centroids`) above, the next step is to run the\n",
    "K-means algorithm on a toy 2D dataset to help understand how\n",
    "K-means works. "
   ]
  },
  {
   "cell_type": "code",
   "execution_count": null,
   "metadata": {},
   "outputs": [],
   "source": [
    "# run_kMeans: Run the kMeans algorithm"
   ]
  },
  {
   "cell_type": "code",
   "execution_count": null,
   "metadata": {},
   "outputs": [],
   "source": [
    "# load and check the implementation"
   ]
  },
  {
   "cell_type": "markdown",
   "metadata": {},
   "source": [
    "### Random Initialization\n",
    "\n",
    "For K-Means clustering, centroids are best initialized by randomly choosing examples from the dataset. The `kMeans_init_centroids` function works as follows:\n",
    "\n",
    "1. It randomly shuffles the dataset indices using `np.random.permutation()`.\n",
    "2. It selects the first $K$ examples from the shuffled indices.\n",
    "\n",
    "This ensures centroids are chosen randomly without repeating any example.\n"
   ]
  },
  {
   "cell_type": "code",
   "execution_count": null,
   "metadata": {},
   "outputs": [],
   "source": [
    "# kMeans_init_centroids: Initialize the centroids"
   ]
  },
  {
   "cell_type": "markdown",
   "metadata": {},
   "source": [
    "You can run K-Means again but this time with random initial centroids. Run the cell below several times and observe how different clusters are created based on the initial points chosen."
   ]
  },
  {
   "cell_type": "code",
   "execution_count": null,
   "metadata": {},
   "outputs": [],
   "source": [
    "# check the implementation"
   ]
  },
  {
   "cell_type": "markdown",
   "metadata": {},
   "source": [
    "# Image compression with K-means"
   ]
  },
  {
   "cell_type": "markdown",
   "metadata": {},
   "source": [
    "We use K-Means for image compression:\n",
    "\n",
    "1. Each pixel in an image is represented using $RGB$ encoding (three values for red, green, and blue, each ranging from $0$ to $255$).\n",
    "2. The image contains many colors, but you will reduce this to just $n$ colors.\n",
    "3. This compression works by:\n",
    "    * Storing the $RGB$ values of the $n$ colors.\n",
    "    * Storing an index ($4$ bits) for each pixel to indicate which color it uses.\n",
    "\n",
    "Using `K-Means`, we group pixels into $n$ clusters based on their $RGB$ values and replace the original pixels with the closest cluster color to compress the image.\n",
    "\n",
    "<div style=\"text-align: center;\">\n",
    "    <img src=\"images/orange.png\" width=\"400\" height=\"400\" style=\"display: inline-block; margin-right: 50px;\">\n",
    "    <img src=\"images/Sunflower.jpg\" width=\"500\" style=\"display: inline-block; height: 400px;\">\n",
    "</div>\n",
    "\n"
   ]
  },
  {
   "cell_type": "code",
   "execution_count": null,
   "metadata": {},
   "outputs": [],
   "source": [
    "# load and vitualize the image ad check the diamentions"
   ]
  },
  {
   "cell_type": "markdown",
   "metadata": {},
   "source": [
    "#### **Visualize image**\n",
    "\n",
    "As We can see, this creates a three-dimensional matrix `original_img` where \n",
    "* the first two indices identify a pixel position, and\n",
    "* the third index represents $red$, $green$, or $blue$. \n",
    "\n",
    "For example, `original_img[50, 33, 2]` gives the blue intensity of the pixel at row $50$ and column $33$.<br />\n",
    "The value you get from `original_img[50, 33, 2]` will be a number between $0$ (no blue) and $255$ (maximum blue)\n",
    "\n",
    "<div style=\"text-align: center;\">\n",
    "    <img src=\"images/output.png\" width=\"400\" height=\"400\" style=\"display: inline-block; margin-right: 50px;\">\n",
    "    <img src=\"images/output2.png\" style=\"display: inline-block; height: 400px;\">\n",
    "</div>\n"
   ]
  },
  {
   "cell_type": "markdown",
   "metadata": {},
   "source": [
    "#### **Processing data**\n",
    "\n",
    "This reshaped matrix `(X_img)` is ready to be used as input for the K-Means clustering algorithm, which can group pixels based on their color similarities.\n",
    "\n",
    "**1. Image Preparation:**\n",
    "* It ensures the image is in the correct $RGB$ format.\n",
    "* If the image has extra channels (like transparency), it removes them, keeping only the $red$, $green$, and $blue$ channels.\n",
    "\n",
    "**2. Count Pixels:**\n",
    "\n",
    "* The total number of pixels `(m)` is calculated by multiplying the number of rows and columns in the image.\n",
    "\n",
    "**3. Reshape the Image:**\n",
    "\n",
    "* The image data, which is originally in a $3D$ format `(rows, columns, RGB)`, is reshaped into a $2D$ matrix:\n",
    "    - Each row in the matrix represents one pixel.\n",
    "    - Each row has $3$ values: $red$, $green$, and $blue$ intensities for that pixel.\n",
    "\n",
    "*Note: If you'll try this exercise later on a JPG file, you first need to divide the pixel values by 255 so it will be in the range 0 to 1.*\n",
    "\n",
    "\n"
   ]
  },
  {
   "cell_type": "code",
   "execution_count": null,
   "metadata": {},
   "outputs": [],
   "source": [
    "# code the implementation"
   ]
  },
  {
   "cell_type": "markdown",
   "metadata": {},
   "source": [
    "#### **K-Means on image pixels**\n"
   ]
  },
  {
   "cell_type": "code",
   "execution_count": null,
   "metadata": {},
   "outputs": [],
   "source": [
    "# code "
   ]
  },
  {
   "cell_type": "markdown",
   "metadata": {},
   "source": [
    "The code creates a $3D$ plot showing all the colors in the original image, with each pixel represented by its $R (red), G (green), and  B (blue)$ values.\n",
    "\n",
    "* Dots: Each dot corresponds to a pixel's color (thousands of clolors) in the original image.\n",
    "* Red Markers: These represent the centroids after running K-means clustering, which are the $K$ main colors chosen to compress the image.\n",
    "\n",
    "<div style=\"text-align: center;\">\n",
    "    <img src=\"images/output_1.png\" width=\"550\" height=\"550\" style=\"display: inline-block; margin-right: 20px;\">\n",
    "    <img src=\"images/output2_1.png\" style=\"display: inline-block; height: 550px;\">\n",
    "</div>\n"
   ]
  },
  {
   "cell_type": "code",
   "execution_count": null,
   "metadata": {},
   "outputs": [],
   "source": [
    "# code"
   ]
  },
  {
   "cell_type": "markdown",
   "metadata": {},
   "source": [
    "You can visualize the colors at each of the red markers $(i.e. centroids)$ above with the function below. <br />\n",
    "You will only see these colors when you generate the new image in the next section. The number below each color is its $index$ and these are the numbers you see in the `idx` array.\n",
    "\n",
    "<br />\n",
    "<div style=\"text-align: center;\">\n",
    "    <img src=\"images/output_2.png\" width=\"1100\" style=\" margin-bottom: 30px;\">\n",
    "    <img src=\"images/output2_2_2.png\" width=\"1100\">\n",
    "</div>"
   ]
  },
  {
   "cell_type": "code",
   "execution_count": null,
   "metadata": {},
   "outputs": [],
   "source": [
    "# code"
   ]
  },
  {
   "cell_type": "markdown",
   "metadata": {},
   "source": [
    "#### **Compress the image**\n",
    "\n",
    "Instead of storing the exact $RGB$ value for every pixel, the algorithm finds $K$ main colors $(centroids)$ that best represent the image.\n",
    "These $K$ colors act like a $\"palette\"$ for the image.<br />\n",
    "After identifying the $K$ colors, each pixel is assigned to the closest color in the palette.\n",
    "<br />\n",
    "\n",
    "For $K=16$ and $128px \\times 128px$ image:\n",
    "\n",
    "***Original Image Storage***\n",
    "- Each channel is stored using `8 bits` (a value between $0$ and $255$).\n",
    "- Every pixel requires `24 bits` ($8$ bits × $3$ channels).\n",
    "- Total number of pixels = $( 128 \\times 128 = 16,384 $).\n",
    "- Total bits required = $( 16,384 \\times 24 = 393,216 $) bits.\n",
    "\n",
    "***Compressed Image Storage***\n",
    "- To store this assignment, we only need `4 bits per pixel` because $( 2^4 = 16 )$, which is enough to reference one of the 16 colors.\n",
    "- The 16 colors (palette) require `24 bits per color`. Total = $( 16 \\times 24 = 384 )$ bits.\n",
    "- Assigning each pixel to a color requires `4 bits per pixel`. Total = $( 16,384 \\times 4 = 65,536 $) bits.\n",
    "- Final total storage = $( 384 + 65,536 = 65,920 $) bits.\n",
    "- Compression achieved = $( 393,216 / 65,920 \\approx 6 $)."
   ]
  },
  {
   "cell_type": "code",
   "execution_count": null,
   "metadata": {},
   "outputs": [],
   "source": [
    "# code"
   ]
  },
  {
   "cell_type": "markdown",
   "metadata": {},
   "source": [
    "`Finally`, we can view the effects of the compression by reconstructing\n",
    "the image based only on the centroid assignments. \n",
    "* Specifically, we replaced each pixel with the value of the centroid assigned to it. \n",
    "* Figure  shows a sample reconstruction. Even though the resulting image retains most of the characteristics of the original, we can also see some `compression artifacts` because of the fewer colors used.\n",
    "\n",
    "<div style=\"text-align: center;\">\n",
    "    <img src=\"images/output_3.png\" width=\"920\" height=\"400\" >\n",
    "    <img src=\"images/output2_3.png\" style=\"margin-top:25px; \" width=\"920\" height=\"400\" >\n",
    "</div>\n"
   ]
  },
  {
   "cell_type": "code",
   "execution_count": null,
   "metadata": {},
   "outputs": [],
   "source": [
    "# code"
   ]
  }
 ],
 "metadata": {
  "kernelspec": {
   "display_name": "base",
   "language": "python",
   "name": "python3"
  },
  "language_info": {
   "codemirror_mode": {
    "name": "ipython",
    "version": 3
   },
   "file_extension": ".py",
   "mimetype": "text/x-python",
   "name": "python",
   "nbconvert_exporter": "python",
   "pygments_lexer": "ipython3",
   "version": "3.11.7"
  }
 },
 "nbformat": 4,
 "nbformat_minor": 2
}
